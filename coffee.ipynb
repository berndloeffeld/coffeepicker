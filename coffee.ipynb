{
 "metadata": {
  "language_info": {
   "codemirror_mode": {
    "name": "ipython",
    "version": 3
   },
   "file_extension": ".py",
   "mimetype": "text/x-python",
   "name": "python",
   "nbconvert_exporter": "python",
   "pygments_lexer": "ipython3",
   "version": "3.8.5-final"
  },
  "orig_nbformat": 2,
  "kernelspec": {
   "name": "Python 3.8.5 64-bit (conda)",
   "display_name": "Python 3.8.5 64-bit (conda)",
   "metadata": {
    "interpreter": {
     "hash": "b3ba2566441a7c06988d0923437866b63cedc61552a5af99d1f4fb67d367b25f"
    }
   }
  }
 },
 "nbformat": 4,
 "nbformat_minor": 2,
 "cells": [
  {
   "cell_type": "code",
   "execution_count": 37,
   "metadata": {},
   "outputs": [
    {
     "output_type": "stream",
     "name": "stderr",
     "text": [
      "INFO:root:Using file colleagues.json\n"
     ]
    }
   ],
   "source": [
    "from random import choices\n",
    "from datetime import datetime\n",
    "from datetime import date\n",
    "from tinydb import TinyDB, Query\n",
    "import sys\n",
    "import json\n",
    "import logging\n",
    "\n",
    "logging.basicConfig()\n",
    "logger = logging.getLogger()\n",
    "logger.setLevel(logging.INFO)\n",
    "\n",
    "date_format = \"%d.%m.%Y\"\n",
    "dbname = \"colleagues.json\"\n",
    "logger.info(\"Using file %s\", dbname)\n",
    "db = TinyDB(dbname)\n"
   ]
  },
  {
   "cell_type": "code",
   "execution_count": 38,
   "metadata": {},
   "outputs": [],
   "source": [
    "class InputHelper:    \n",
    "    def getNextCoffeeDate():\n",
    "        coffee_date = None\n",
    "        while not coffee_date:\n",
    "            coffee_date_text = input(\"Termin setzen am dd.mm.YYYY!\")\n",
    "            if(len(coffee_date_text) > 0):\n",
    "                try:\n",
    "                    temp_coffee_date = datetime.strptime(coffee_date_text, date_format)\n",
    "\n",
    "                    if((temp_coffee_date - datetime.today()).days >= 0):\n",
    "                        coffee_date = temp_coffee_date\n",
    "                    else:\n",
    "                        logger.info(\"%s is in the past\", coffee_date_text)\n",
    "\n",
    "                except ValueError:\n",
    "                    logger.info(\"Value %s is not a valid date\", coffee_date_text)\n",
    "            else:\n",
    "                break\n",
    "\n",
    "        return coffee_date"
   ]
  },
  {
   "cell_type": "code",
   "execution_count": 39,
   "metadata": {},
   "outputs": [],
   "source": [
    "class Employee:\n",
    "    def __init__(self, name, company, willing, last_coffee):\n",
    "        self.name = name\n",
    "        self.company = company\n",
    "        self.willing = willing\n",
    "        self.last_coffee = last_coffee\n",
    "\n",
    "    def weight(self):\n",
    "        temp_weight = self.__days_since_last_coffee() + 3\n",
    "        \n",
    "        if(self.company != \"Verimi\"):\n",
    "            temp_weight = temp_weight * 0.7    \n",
    "        if(self.willing):\n",
    "            temp_weight = temp_weight * 1.5\n",
    "\n",
    "        if(temp_weight <= 0):\n",
    "            temp_weight = 0\n",
    "\n",
    "        return temp_weight\n",
    "\n",
    "    def __days_since_last_coffee(self):\n",
    "        return (datetime.today() - datetime.strptime(self.last_coffee, date_format)).days\n"
   ]
  },
  {
   "cell_type": "code",
   "execution_count": 40,
   "metadata": {
    "tags": []
   },
   "outputs": [
    {
     "output_type": "stream",
     "name": "stderr",
     "text": [
      "INFO:root:Patrick: 7.5\n",
      "INFO:root:Liang: 4\n",
      "INFO:root:Sukhmeet: 6.0\n",
      "INFO:root:Jan: 0\n",
      "INFO:root:Hadi: 4.5\n",
      "INFO:root:Manju: 0\n",
      "INFO:root:Oleh: 0\n",
      "INFO:root:Svitlana: 6.0\n",
      "INFO:root:Gurpreet: 15.0\n",
      "INFO:root:Chidubem: 0\n",
      "INFO:root:Bharat: 15.0\n",
      "INFO:root:Tapan: 3\n",
      "INFO:root:Tarun: 3\n",
      "INFO:root:Sandor: 0\n",
      "INFO:root:Andras B.: 0\n",
      "INFO:root:Andrea: 4.8999999999999995\n",
      "INFO:root:Szilvia: 2.0999999999999996\n",
      "INFO:root:Andras S.: 0\n",
      "INFO:root:Peter: 3.1499999999999995\n",
      "INFO:root:Mirjam: 7.35\n",
      "INFO:root:Oleks: 0\n",
      "INFO:root:Lajos: 7.35\n",
      "INFO:root:Miklos: 0\n",
      "INFO:root:Bernat: 0\n",
      "INFO:root:Biju: 4.5\n",
      "INFO:root:Mohamed: 0\n",
      "INFO:root:Marius: 0\n",
      "INFO:root:Thierry: 4.5\n",
      "\n",
      "########################################################################\n",
      "Have coffee with\n",
      "['Gurpreet', 'Lajos', 'Mirjam', 'Svitlana']\n",
      "#############################d###########################################\n",
      "\n",
      "WARNING:root:Coffee date was not updated\n"
     ]
    }
   ],
   "source": [
    "names = []\n",
    "weights = []\n",
    "winners = []\n",
    "\n",
    "for entry in db.all():\n",
    "    e = Employee(**entry)\n",
    "\n",
    "    names.append(e.name)\n",
    "    weights.append(e.weight())\n",
    "    logger.info('%s: %s', e.name, e.weight())\n",
    "\n",
    "if(len(names) > 4):\n",
    "    while(len(winners) < 4):\n",
    "        next = choices(names, weights = weights, k = 1)\n",
    "        if(next[0] not in winners):\n",
    "            winners.append(next[0])\n",
    "else:\n",
    "    logger.warn(\"Not enough coffee candidates\")\n",
    "    sys.exit()\n",
    "\n",
    "print(\"\")\n",
    "print(\"########################################################################\")\n",
    "print(\"Have coffee with\")\n",
    "print(winners)\n",
    "print(\"#############################d###########################################\")\n",
    "print(\"\")\n",
    "\n",
    "coffee_date = InputHelper.getNextCoffeeDate()\n",
    "if coffee_date:\n",
    "    for e_name in winners:\n",
    "        date_for_db = coffee_date.strftime(date_format)\n",
    "        db.update({'last_coffee': date_for_db}, Query().name == e_name)\n",
    "        logger.info(\"Coffee Date %s stored to database for %s\", date_for_db, e_name)\n",
    "else:\n",
    "    logger.warn(\"Coffee date was not updated\")"
   ]
  },
  {
   "cell_type": "code",
   "execution_count": null,
   "metadata": {},
   "outputs": [],
   "source": []
  }
 ]
}